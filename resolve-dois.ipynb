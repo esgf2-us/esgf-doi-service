{
 "cells": [
  {
   "cell_type": "code",
   "execution_count": 1,
   "id": "6398e931-6fa7-4d33-a948-aacb316f54de",
   "metadata": {},
   "outputs": [],
   "source": [
    "import requests"
   ]
  },
  {
   "cell_type": "code",
   "execution_count": 2,
   "id": "16142fcf-0155-4682-baee-73e0318efa0e",
   "metadata": {},
   "outputs": [],
   "source": [
    "SRC = \"https://raw.githubusercontent.com/ESGF/esgf-vocab/refs/heads/EMD/EMD_example/complete_top_model_example.json\""
   ]
  },
  {
   "cell_type": "code",
   "execution_count": 3,
   "id": "9722701a-9af3-4122-a31b-2a4bb671c943",
   "metadata": {},
   "outputs": [],
   "source": [
    "esdoc = requests.get(SRC).json()\n",
    "DOI = [x['doi'] for x in esdoc[\"references\"]]"
   ]
  },
  {
   "cell_type": "markdown",
   "id": "16982c3a-c733-4e47-a6c9-c346820f2774",
   "metadata": {},
   "source": [
    "### Optional: capture DOI of model components"
   ]
  },
  {
   "cell_type": "code",
   "execution_count": 4,
   "id": "58a260c4-2a95-473d-8a13-823b6accd622",
   "metadata": {},
   "outputs": [],
   "source": [
    "for comp in esdoc['model_components']:\n",
    "    DOI += [x['doi'] for x in comp[\"references\"]]"
   ]
  },
  {
   "cell_type": "code",
   "execution_count": 39,
   "id": "861e375c-96e8-4060-8d77-c62b3f887d48",
   "metadata": {},
   "outputs": [],
   "source": [
    "from copy import deepcopy"
   ]
  },
  {
   "cell_type": "markdown",
   "id": "1376ef88-4b83-46e6-ab46-90e4cabb9e27",
   "metadata": {},
   "source": [
    "### Deduplicate references"
   ]
  },
  {
   "cell_type": "code",
   "execution_count": null,
   "id": "8cec54c5-7fc6-4f10-8820-b59d65da43a7",
   "metadata": {},
   "outputs": [],
   "source": [
    "def doi2author(doi):\n",
    "    res = requests.get(f\"https://api.crossref.org/works/{doi}\")\n",
    "    return [[aut['given'], aut['family']] for aut in res.json()[\"message\"][\"author\"]]\n",
    "\n",
    "\n",
    "def disambig_list(lst):\n",
    "    x = lst[0]\n",
    "    idx = 1\n",
    "    outlst = []\n",
    "    while idx < len(lst):\n",
    "        if not (lst[idx][0] == x[0] and lst[idx][1] == '.'):\n",
    "            outlst.append(x)\n",
    "            x = lst[idx]\n",
    "        idx += 1\n",
    "    outlst.append(x)\n",
    "    return outlst\n",
    "\n",
    "def disambiguate(authors):\n",
    "    table = {}\n",
    "    outlst = []\n",
    "    for a in authors:\n",
    "        if a[1] in table:\n",
    "            table[a[1]].append(a[0])\n",
    "        else:\n",
    "            table[a[1]] = [a[0]]\n",
    "    for k in table:\n",
    "        table[k].sort(reverse=True)\n",
    "        orglst = deepcopy(table[k])\n",
    "        res = disambig_list(table[k])  \n",
    "        # print(f\"{k} :  {orglst} {res}\"\n",
    "        for gn in res:\n",
    "            outlst.append([k, gn])\n",
    "        \n",
    "    return outlst"
   ]
  },
  {
   "cell_type": "code",
   "execution_count": 5,
   "id": "5fac718c-cb0b-456b-86fb-1b2973a7d798",
   "metadata": {},
   "outputs": [],
   "source": [
    "DOI = list(set(DOI))"
   ]
  },
  {
   "cell_type": "code",
   "execution_count": 7,
   "id": "2a17864b-3fc8-4fe0-b11c-0164048bfc21",
   "metadata": {},
   "outputs": [],
   "source": [
    "lists_of_authors = [doi2author(doi) for doi in DOI]  # create a list of lists"
   ]
  },
  {
   "cell_type": "code",
   "execution_count": 8,
   "id": "d88581eb-aa6d-474f-9c7e-ff59ee629789",
   "metadata": {},
   "outputs": [],
   "source": [
    "authors = list([x for y in lists_of_authors for x in y])"
   ]
  },
  {
   "cell_type": "markdown",
   "id": "5efe2d5b-c703-4a3a-9f6a-8b929cd68458",
   "metadata": {},
   "source": [
    "### Run a disambiguation"
   ]
  },
  {
   "cell_type": "code",
   "execution_count": 47,
   "id": "6344f982-b385-48db-83b9-e243520c0881",
   "metadata": {},
   "outputs": [],
   "source": [
    "authlst = disambiguate(authors)"
   ]
  },
  {
   "cell_type": "code",
   "execution_count": 1,
   "id": "362c7d15-e76a-4c8e-bd45-f4f6815bbbb0",
   "metadata": {},
   "outputs": [],
   "source": [
    "datadoiex = \"https://citation.doi.org/metadata?doi=10.22033/ESGF/CMIP6.4700\""
   ]
  },
  {
   "cell_type": "code",
   "execution_count": 4,
   "id": "3c0756c5-0a19-4a31-a552-3d50bc0dadd3",
   "metadata": {},
   "outputs": [],
   "source": [
    "res = requests.get(datadoiex).json()"
   ]
  },
  {
   "cell_type": "code",
   "execution_count": 8,
   "id": "bdaebdf4-253b-400a-9df9-cc810d71ffa9",
   "metadata": {},
   "outputs": [
    {
     "data": {
      "text/plain": [
       "{'family': 'Fladrich', 'given': 'Uwe'}"
      ]
     },
     "execution_count": 8,
     "metadata": {},
     "output_type": "execute_result"
    }
   ],
   "source": [
    "res[\"contributor\"][0]"
   ]
  },
  {
   "cell_type": "code",
   "execution_count": 49,
   "id": "28695c90-c90d-4000-8279-c6b905326c7f",
   "metadata": {},
   "outputs": [],
   "source": [
    "import json"
   ]
  },
  {
   "cell_type": "code",
   "execution_count": 50,
   "id": "367b92d0-f605-4a70-a0c9-f3b96b735440",
   "metadata": {},
   "outputs": [],
   "source": [
    "datacite = json.load(open(\"examples/datacite2.json\"))"
   ]
  },
  {
   "cell_type": "code",
   "execution_count": 51,
   "id": "db47aa3e-bed5-4eb2-a698-27a3808b5d73",
   "metadata": {},
   "outputs": [],
   "source": [
    "citeeg = json.load(open(\"examples/cite-eg.json\"))"
   ]
  },
  {
   "cell_type": "code",
   "execution_count": 53,
   "id": "bd94bb5a-5e71-4c8b-8664-302cb02e4deb",
   "metadata": {},
   "outputs": [],
   "source": [
    "citekeys = list(citeeg.keys())"
   ]
  },
  {
   "cell_type": "code",
   "execution_count": 58,
   "id": "af56da44-606d-4053-9ce4-1cf4860c5288",
   "metadata": {},
   "outputs": [],
   "source": [
    "citekeys.remove(\"resourceType\") # identifier, resourceType"
   ]
  },
  {
   "cell_type": "code",
   "execution_count": 59,
   "id": "474327ee-ee28-4bd0-817a-df727610b7cc",
   "metadata": {},
   "outputs": [],
   "source": [
    "resjson = { key : datacite['data'][0]['attributes'][key]  for key in citekeys }"
   ]
  },
  {
   "cell_type": "code",
   "execution_count": 17,
   "id": "a6567641-f26f-48ff-8158-11cf030392e8",
   "metadata": {},
   "outputs": [],
   "source": [
    "resjson[\"identifier\"] = { \"type\" : \"DOI\" , \"id\" : datacite['data'][0]['id'] }"
   ]
  },
  {
   "cell_type": "code",
   "execution_count": 56,
   "id": "27ee436a-63a2-4c25-b9f2-c28cf4f2dfd6",
   "metadata": {},
   "outputs": [
    {
     "data": {
      "text/plain": [
       "['creators',\n",
       " 'titles',\n",
       " 'publisher',\n",
       " 'publicationYear',\n",
       " 'subjects',\n",
       " 'contributors',\n",
       " 'dates',\n",
       " 'language',\n",
       " 'resourceType',\n",
       " 'formats',\n",
       " 'rightsList',\n",
       " 'descriptions',\n",
       " 'fundingReferences',\n",
       " 'relatedIdentifiers']"
      ]
     },
     "execution_count": 56,
     "metadata": {},
     "output_type": "execute_result"
    }
   ],
   "source": [
    "citekeys"
   ]
  },
  {
   "cell_type": "code",
   "execution_count": 61,
   "id": "92e08035-4501-413a-953c-d84768015610",
   "metadata": {},
   "outputs": [],
   "source": [
    "with open(\"examples/outputexample.json\", \"w\") as f:\n",
    "    json.dump(resjson, f, indent=2)"
   ]
  },
  {
   "cell_type": "code",
   "execution_count": null,
   "id": "708d0c1a-8e0b-47f3-bab9-52f85e2549f1",
   "metadata": {},
   "outputs": [],
   "source": []
  }
 ],
 "metadata": {
  "kernelspec": {
   "display_name": "NERSC Python",
   "language": "python",
   "name": "python3"
  },
  "language_info": {
   "codemirror_mode": {
    "name": "ipython",
    "version": 3
   },
   "file_extension": ".py",
   "mimetype": "text/x-python",
   "name": "python",
   "nbconvert_exporter": "python",
   "pygments_lexer": "ipython3",
   "version": "3.11.7"
  }
 },
 "nbformat": 4,
 "nbformat_minor": 5
}
